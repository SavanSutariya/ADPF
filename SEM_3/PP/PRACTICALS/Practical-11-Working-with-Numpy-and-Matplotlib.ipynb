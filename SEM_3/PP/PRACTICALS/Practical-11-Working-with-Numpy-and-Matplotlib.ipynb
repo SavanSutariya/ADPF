{
 "cells": [
  {
   "attachments": {},
   "cell_type": "markdown",
   "id": "2bb84c79",
   "metadata": {},
   "source": [
    "<ol>\n",
    "    <li>\n",
    "        <ol>\n",
    "            <li> Create a file results.csv with fields: rollno, name, cmarks, cppmarks, pymarks. Insert at least 10 rows into that file.\n",
    "            <li> Load csv data into a DataFrame.\n",
    "            <li> Compute total marks.\n",
    "            <li> Compute percentage.\n",
    "            <li> Compute grade.\n",
    "            <li> Plot line chart: name -> percentage. Show all chart attributes.\n",
    "            <li> Plot bar chart: rollno:cmarks, cppmarks, pymarks -> percentage. Show all chart attributes.\n",
    "            <li> Plot pie chart: Subject viz. count-of-students-who-scored-more-than-80-percentage.\n",
    "            <li> Save updated DataFrame into a file: updated-result.csv.\n",
    "        </ol>\n",
    "     </li>\n",
    "     <li>\n",
    "        <ol>\n",
    "            <li> Create a 3X4 array of strings. Store data into it. Print it on screen.\n",
    "            <li> Create a 2X5 array of zeros.\n",
    "            <li> Create a 2X5X3 array of ones.    \n",
    "            <li> Using suitable examples, demonstrate reshaping of arrays which were been created in 2-A, 2-B and 2-C.\n",
    "        </ol>\n",
    "    </li>\n",
    "    <li>\n",
    "        Explain purpose and demostrate usage of following functions:\n",
    "        <ul>\n",
    "            <li>dot()\n",
    "            <li>arange()\n",
    "            <li>hstack()\n",
    "            <li>vstack()\n",
    "            <li>linspace()\n",
    "            <li>logspace()\n",
    "            <li>asarray()\n",
    "            <li>matmul()\n",
    "        </ul>\n",
    "    </li>\n",
    "</ol>"
   ]
  },
  {
   "cell_type": "code",
   "execution_count": null,
   "id": "9451e626",
   "metadata": {},
   "outputs": [],
   "source": []
  }
 ],
 "metadata": {
  "kernelspec": {
   "display_name": "Python 3 (ipykernel)",
   "language": "python",
   "name": "python3"
  },
  "language_info": {
   "codemirror_mode": {
    "name": "ipython",
    "version": 3
   },
   "file_extension": ".py",
   "mimetype": "text/x-python",
   "name": "python",
   "nbconvert_exporter": "python",
   "pygments_lexer": "ipython3",
   "version": "3.10.9"
  }
 },
 "nbformat": 4,
 "nbformat_minor": 5
}
