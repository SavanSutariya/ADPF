{
 "cells": [
  {
   "cell_type": "markdown",
   "id": "ethical-action",
   "metadata": {},
   "source": [
    "#### How to load data from csv file into dataframe?"
   ]
  },
  {
   "cell_type": "code",
   "execution_count": 1,
   "id": "connected-writer",
   "metadata": {},
   "outputs": [],
   "source": [
    "import pandas as pd"
   ]
  },
  {
   "cell_type": "code",
   "execution_count": 2,
   "id": "interstate-delight",
   "metadata": {},
   "outputs": [],
   "source": [
    "df = pd.read_csv('practical-10-a-empdata.csv')"
   ]
  },
  {
   "cell_type": "code",
   "execution_count": 3,
   "id": "olympic-jaguar",
   "metadata": {},
   "outputs": [
    {
     "data": {
      "text/plain": [
       "pandas.core.frame.DataFrame"
      ]
     },
     "execution_count": 3,
     "metadata": {},
     "output_type": "execute_result"
    }
   ],
   "source": [
    "type(df)"
   ]
  },
  {
   "cell_type": "markdown",
   "id": "lightweight-earthquake",
   "metadata": {},
   "source": [
    "#### Observe dataset"
   ]
  },
  {
   "cell_type": "code",
   "execution_count": 4,
   "id": "agreed-duplicate",
   "metadata": {},
   "outputs": [
    {
     "data": {
      "text/html": [
       "<div>\n",
       "<style scoped>\n",
       "    .dataframe tbody tr th:only-of-type {\n",
       "        vertical-align: middle;\n",
       "    }\n",
       "\n",
       "    .dataframe tbody tr th {\n",
       "        vertical-align: top;\n",
       "    }\n",
       "\n",
       "    .dataframe thead th {\n",
       "        text-align: right;\n",
       "    }\n",
       "</style>\n",
       "<table border=\"1\" class=\"dataframe\">\n",
       "  <thead>\n",
       "    <tr style=\"text-align: right;\">\n",
       "      <th></th>\n",
       "      <th>empid</th>\n",
       "      <th>ename</th>\n",
       "      <th>sal</th>\n",
       "      <th>doj</th>\n",
       "    </tr>\n",
       "  </thead>\n",
       "  <tbody>\n",
       "    <tr>\n",
       "      <th>0</th>\n",
       "      <td>1001</td>\n",
       "      <td>Ganesh Rao</td>\n",
       "      <td>10000.00</td>\n",
       "      <td>10-10-2000</td>\n",
       "    </tr>\n",
       "    <tr>\n",
       "      <th>1</th>\n",
       "      <td>1002</td>\n",
       "      <td>Anil Kumar</td>\n",
       "      <td>23000.50</td>\n",
       "      <td>3-20-2002</td>\n",
       "    </tr>\n",
       "    <tr>\n",
       "      <th>2</th>\n",
       "      <td>1003</td>\n",
       "      <td>Gaurav Gupta</td>\n",
       "      <td>18000.53</td>\n",
       "      <td>03-03-2002</td>\n",
       "    </tr>\n",
       "    <tr>\n",
       "      <th>3</th>\n",
       "      <td>1004</td>\n",
       "      <td>Hema Chandra</td>\n",
       "      <td>16500.50</td>\n",
       "      <td>09-10-2000</td>\n",
       "    </tr>\n",
       "    <tr>\n",
       "      <th>4</th>\n",
       "      <td>1005</td>\n",
       "      <td>Laxmi Prasanna</td>\n",
       "      <td>12000.75</td>\n",
       "      <td>10-08-2000</td>\n",
       "    </tr>\n",
       "  </tbody>\n",
       "</table>\n",
       "</div>"
      ],
      "text/plain": [
       "   empid           ename       sal         doj\n",
       "0   1001      Ganesh Rao  10000.00  10-10-2000\n",
       "1   1002      Anil Kumar  23000.50   3-20-2002\n",
       "2   1003    Gaurav Gupta  18000.53  03-03-2002\n",
       "3   1004    Hema Chandra  16500.50  09-10-2000\n",
       "4   1005  Laxmi Prasanna  12000.75  10-08-2000"
      ]
     },
     "execution_count": 4,
     "metadata": {},
     "output_type": "execute_result"
    }
   ],
   "source": [
    "df.head()"
   ]
  },
  {
   "cell_type": "code",
   "execution_count": 7,
   "id": "funky-professor",
   "metadata": {},
   "outputs": [
    {
     "data": {
      "text/html": [
       "<div>\n",
       "<style scoped>\n",
       "    .dataframe tbody tr th:only-of-type {\n",
       "        vertical-align: middle;\n",
       "    }\n",
       "\n",
       "    .dataframe tbody tr th {\n",
       "        vertical-align: top;\n",
       "    }\n",
       "\n",
       "    .dataframe thead th {\n",
       "        text-align: right;\n",
       "    }\n",
       "</style>\n",
       "<table border=\"1\" class=\"dataframe\">\n",
       "  <thead>\n",
       "    <tr style=\"text-align: right;\">\n",
       "      <th></th>\n",
       "      <th>empid</th>\n",
       "      <th>ename</th>\n",
       "      <th>sal</th>\n",
       "      <th>doj</th>\n",
       "    </tr>\n",
       "  </thead>\n",
       "  <tbody>\n",
       "    <tr>\n",
       "      <th>0</th>\n",
       "      <td>1001</td>\n",
       "      <td>Ganesh Rao</td>\n",
       "      <td>10000.00</td>\n",
       "      <td>10-10-2000</td>\n",
       "    </tr>\n",
       "    <tr>\n",
       "      <th>1</th>\n",
       "      <td>1002</td>\n",
       "      <td>Anil Kumar</td>\n",
       "      <td>23000.50</td>\n",
       "      <td>3-20-2002</td>\n",
       "    </tr>\n",
       "    <tr>\n",
       "      <th>2</th>\n",
       "      <td>1003</td>\n",
       "      <td>Gaurav Gupta</td>\n",
       "      <td>18000.53</td>\n",
       "      <td>03-03-2002</td>\n",
       "    </tr>\n",
       "  </tbody>\n",
       "</table>\n",
       "</div>"
      ],
      "text/plain": [
       "   empid         ename       sal         doj\n",
       "0   1001    Ganesh Rao  10000.00  10-10-2000\n",
       "1   1002    Anil Kumar  23000.50   3-20-2002\n",
       "2   1003  Gaurav Gupta  18000.53  03-03-2002"
      ]
     },
     "execution_count": 7,
     "metadata": {},
     "output_type": "execute_result"
    }
   ],
   "source": [
    "df.head(3)"
   ]
  },
  {
   "cell_type": "code",
   "execution_count": 5,
   "id": "proper-czech",
   "metadata": {},
   "outputs": [
    {
     "data": {
      "text/html": [
       "<div>\n",
       "<style scoped>\n",
       "    .dataframe tbody tr th:only-of-type {\n",
       "        vertical-align: middle;\n",
       "    }\n",
       "\n",
       "    .dataframe tbody tr th {\n",
       "        vertical-align: top;\n",
       "    }\n",
       "\n",
       "    .dataframe thead th {\n",
       "        text-align: right;\n",
       "    }\n",
       "</style>\n",
       "<table border=\"1\" class=\"dataframe\">\n",
       "  <thead>\n",
       "    <tr style=\"text-align: right;\">\n",
       "      <th></th>\n",
       "      <th>empid</th>\n",
       "      <th>ename</th>\n",
       "      <th>sal</th>\n",
       "      <th>doj</th>\n",
       "    </tr>\n",
       "  </thead>\n",
       "  <tbody>\n",
       "    <tr>\n",
       "      <th>1</th>\n",
       "      <td>1002</td>\n",
       "      <td>Anil Kumar</td>\n",
       "      <td>23000.50</td>\n",
       "      <td>3-20-2002</td>\n",
       "    </tr>\n",
       "    <tr>\n",
       "      <th>2</th>\n",
       "      <td>1003</td>\n",
       "      <td>Gaurav Gupta</td>\n",
       "      <td>18000.53</td>\n",
       "      <td>03-03-2002</td>\n",
       "    </tr>\n",
       "    <tr>\n",
       "      <th>3</th>\n",
       "      <td>1004</td>\n",
       "      <td>Hema Chandra</td>\n",
       "      <td>16500.50</td>\n",
       "      <td>09-10-2000</td>\n",
       "    </tr>\n",
       "    <tr>\n",
       "      <th>4</th>\n",
       "      <td>1005</td>\n",
       "      <td>Laxmi Prasanna</td>\n",
       "      <td>12000.75</td>\n",
       "      <td>10-08-2000</td>\n",
       "    </tr>\n",
       "    <tr>\n",
       "      <th>5</th>\n",
       "      <td>1006</td>\n",
       "      <td>Anant Nag</td>\n",
       "      <td>9999.99</td>\n",
       "      <td>09-09-1999</td>\n",
       "    </tr>\n",
       "  </tbody>\n",
       "</table>\n",
       "</div>"
      ],
      "text/plain": [
       "   empid           ename       sal         doj\n",
       "1   1002      Anil Kumar  23000.50   3-20-2002\n",
       "2   1003    Gaurav Gupta  18000.53  03-03-2002\n",
       "3   1004    Hema Chandra  16500.50  09-10-2000\n",
       "4   1005  Laxmi Prasanna  12000.75  10-08-2000\n",
       "5   1006       Anant Nag   9999.99  09-09-1999"
      ]
     },
     "execution_count": 5,
     "metadata": {},
     "output_type": "execute_result"
    }
   ],
   "source": [
    "df.tail()"
   ]
  },
  {
   "cell_type": "code",
   "execution_count": 6,
   "id": "entitled-moral",
   "metadata": {},
   "outputs": [
    {
     "data": {
      "text/html": [
       "<div>\n",
       "<style scoped>\n",
       "    .dataframe tbody tr th:only-of-type {\n",
       "        vertical-align: middle;\n",
       "    }\n",
       "\n",
       "    .dataframe tbody tr th {\n",
       "        vertical-align: top;\n",
       "    }\n",
       "\n",
       "    .dataframe thead th {\n",
       "        text-align: right;\n",
       "    }\n",
       "</style>\n",
       "<table border=\"1\" class=\"dataframe\">\n",
       "  <thead>\n",
       "    <tr style=\"text-align: right;\">\n",
       "      <th></th>\n",
       "      <th>empid</th>\n",
       "      <th>ename</th>\n",
       "      <th>sal</th>\n",
       "      <th>doj</th>\n",
       "    </tr>\n",
       "  </thead>\n",
       "  <tbody>\n",
       "    <tr>\n",
       "      <th>3</th>\n",
       "      <td>1004</td>\n",
       "      <td>Hema Chandra</td>\n",
       "      <td>16500.50</td>\n",
       "      <td>09-10-2000</td>\n",
       "    </tr>\n",
       "    <tr>\n",
       "      <th>4</th>\n",
       "      <td>1005</td>\n",
       "      <td>Laxmi Prasanna</td>\n",
       "      <td>12000.75</td>\n",
       "      <td>10-08-2000</td>\n",
       "    </tr>\n",
       "    <tr>\n",
       "      <th>5</th>\n",
       "      <td>1006</td>\n",
       "      <td>Anant Nag</td>\n",
       "      <td>9999.99</td>\n",
       "      <td>09-09-1999</td>\n",
       "    </tr>\n",
       "  </tbody>\n",
       "</table>\n",
       "</div>"
      ],
      "text/plain": [
       "   empid           ename       sal         doj\n",
       "3   1004    Hema Chandra  16500.50  09-10-2000\n",
       "4   1005  Laxmi Prasanna  12000.75  10-08-2000\n",
       "5   1006       Anant Nag   9999.99  09-09-1999"
      ]
     },
     "execution_count": 6,
     "metadata": {},
     "output_type": "execute_result"
    }
   ],
   "source": [
    "df.tail(3)"
   ]
  },
  {
   "cell_type": "code",
   "execution_count": 8,
   "id": "clear-keeping",
   "metadata": {},
   "outputs": [
    {
     "data": {
      "text/plain": [
       "(6, 4)"
      ]
     },
     "execution_count": 8,
     "metadata": {},
     "output_type": "execute_result"
    }
   ],
   "source": [
    "df.shape"
   ]
  },
  {
   "cell_type": "code",
   "execution_count": 5,
   "id": "possible-region",
   "metadata": {},
   "outputs": [
    {
     "name": "stdout",
     "output_type": "stream",
     "text": [
      "(6, 4)\n",
      "<class 'tuple'>\n"
     ]
    }
   ],
   "source": [
    "size = df.shape\n",
    "print(size)\n",
    "print(type(size))"
   ]
  },
  {
   "cell_type": "code",
   "execution_count": 7,
   "id": "abroad-father",
   "metadata": {},
   "outputs": [
    {
     "name": "stdout",
     "output_type": "stream",
     "text": [
      "No. of rows= 6\n",
      "No. of columns= 4\n",
      "\n",
      "No. of rows= 6\n",
      "No. of columns= 4\n"
     ]
    }
   ],
   "source": [
    "print(\"No. of rows=\",df.shape[0])\n",
    "print(\"No. of columns=\",df.shape[1])\n",
    "print()\n",
    "print(\"No. of rows=\",size[0])\n",
    "print(\"No. of columns=\",size[1])"
   ]
  },
  {
   "cell_type": "markdown",
   "id": "primary-zimbabwe",
   "metadata": {},
   "source": [
    "#### Retrieving range of rows"
   ]
  },
  {
   "cell_type": "code",
   "execution_count": 11,
   "id": "racial-transportation",
   "metadata": {},
   "outputs": [
    {
     "data": {
      "text/html": [
       "<div>\n",
       "<style scoped>\n",
       "    .dataframe tbody tr th:only-of-type {\n",
       "        vertical-align: middle;\n",
       "    }\n",
       "\n",
       "    .dataframe tbody tr th {\n",
       "        vertical-align: top;\n",
       "    }\n",
       "\n",
       "    .dataframe thead th {\n",
       "        text-align: right;\n",
       "    }\n",
       "</style>\n",
       "<table border=\"1\" class=\"dataframe\">\n",
       "  <thead>\n",
       "    <tr style=\"text-align: right;\">\n",
       "      <th></th>\n",
       "      <th>empid</th>\n",
       "      <th>ename</th>\n",
       "      <th>sal</th>\n",
       "      <th>doj</th>\n",
       "    </tr>\n",
       "  </thead>\n",
       "  <tbody>\n",
       "    <tr>\n",
       "      <th>2</th>\n",
       "      <td>1003</td>\n",
       "      <td>Gaurav Gupta</td>\n",
       "      <td>18000.53</td>\n",
       "      <td>03-03-2002</td>\n",
       "    </tr>\n",
       "    <tr>\n",
       "      <th>3</th>\n",
       "      <td>1004</td>\n",
       "      <td>Hema Chandra</td>\n",
       "      <td>16500.50</td>\n",
       "      <td>09-10-2000</td>\n",
       "    </tr>\n",
       "    <tr>\n",
       "      <th>4</th>\n",
       "      <td>1005</td>\n",
       "      <td>Laxmi Prasanna</td>\n",
       "      <td>12000.75</td>\n",
       "      <td>10-08-2000</td>\n",
       "    </tr>\n",
       "  </tbody>\n",
       "</table>\n",
       "</div>"
      ],
      "text/plain": [
       "   empid           ename       sal         doj\n",
       "2   1003    Gaurav Gupta  18000.53  03-03-2002\n",
       "3   1004    Hema Chandra  16500.50  09-10-2000\n",
       "4   1005  Laxmi Prasanna  12000.75  10-08-2000"
      ]
     },
     "execution_count": 11,
     "metadata": {},
     "output_type": "execute_result"
    }
   ],
   "source": [
    "df[2:5]"
   ]
  },
  {
   "cell_type": "code",
   "execution_count": 12,
   "id": "remarkable-utilization",
   "metadata": {},
   "outputs": [
    {
     "data": {
      "text/html": [
       "<div>\n",
       "<style scoped>\n",
       "    .dataframe tbody tr th:only-of-type {\n",
       "        vertical-align: middle;\n",
       "    }\n",
       "\n",
       "    .dataframe tbody tr th {\n",
       "        vertical-align: top;\n",
       "    }\n",
       "\n",
       "    .dataframe thead th {\n",
       "        text-align: right;\n",
       "    }\n",
       "</style>\n",
       "<table border=\"1\" class=\"dataframe\">\n",
       "  <thead>\n",
       "    <tr style=\"text-align: right;\">\n",
       "      <th></th>\n",
       "      <th>empid</th>\n",
       "      <th>ename</th>\n",
       "      <th>sal</th>\n",
       "      <th>doj</th>\n",
       "    </tr>\n",
       "  </thead>\n",
       "  <tbody>\n",
       "    <tr>\n",
       "      <th>0</th>\n",
       "      <td>1001</td>\n",
       "      <td>Ganesh Rao</td>\n",
       "      <td>10000.0</td>\n",
       "      <td>10-10-2000</td>\n",
       "    </tr>\n",
       "    <tr>\n",
       "      <th>1</th>\n",
       "      <td>1002</td>\n",
       "      <td>Anil Kumar</td>\n",
       "      <td>23000.5</td>\n",
       "      <td>3-20-2002</td>\n",
       "    </tr>\n",
       "  </tbody>\n",
       "</table>\n",
       "</div>"
      ],
      "text/plain": [
       "   empid       ename      sal         doj\n",
       "0   1001  Ganesh Rao  10000.0  10-10-2000\n",
       "1   1002  Anil Kumar  23000.5   3-20-2002"
      ]
     },
     "execution_count": 12,
     "metadata": {},
     "output_type": "execute_result"
    }
   ],
   "source": [
    "df[0:2]"
   ]
  },
  {
   "cell_type": "code",
   "execution_count": 10,
   "id": "mineral-publisher",
   "metadata": {},
   "outputs": [
    {
     "data": {
      "text/html": [
       "<div>\n",
       "<style scoped>\n",
       "    .dataframe tbody tr th:only-of-type {\n",
       "        vertical-align: middle;\n",
       "    }\n",
       "\n",
       "    .dataframe tbody tr th {\n",
       "        vertical-align: top;\n",
       "    }\n",
       "\n",
       "    .dataframe thead th {\n",
       "        text-align: right;\n",
       "    }\n",
       "</style>\n",
       "<table border=\"1\" class=\"dataframe\">\n",
       "  <thead>\n",
       "    <tr style=\"text-align: right;\">\n",
       "      <th></th>\n",
       "      <th>empid</th>\n",
       "      <th>ename</th>\n",
       "      <th>sal</th>\n",
       "      <th>doj</th>\n",
       "    </tr>\n",
       "  </thead>\n",
       "  <tbody>\n",
       "    <tr>\n",
       "      <th>5</th>\n",
       "      <td>1006</td>\n",
       "      <td>Anant Nag</td>\n",
       "      <td>9999.99</td>\n",
       "      <td>09-09-1999</td>\n",
       "    </tr>\n",
       "    <tr>\n",
       "      <th>3</th>\n",
       "      <td>1004</td>\n",
       "      <td>Hema Chandra</td>\n",
       "      <td>16500.50</td>\n",
       "      <td>09-10-2000</td>\n",
       "    </tr>\n",
       "    <tr>\n",
       "      <th>1</th>\n",
       "      <td>1002</td>\n",
       "      <td>Anil Kumar</td>\n",
       "      <td>23000.50</td>\n",
       "      <td>3-20-2002</td>\n",
       "    </tr>\n",
       "  </tbody>\n",
       "</table>\n",
       "</div>"
      ],
      "text/plain": [
       "   empid         ename       sal         doj\n",
       "5   1006     Anant Nag   9999.99  09-09-1999\n",
       "3   1004  Hema Chandra  16500.50  09-10-2000\n",
       "1   1002    Anil Kumar  23000.50   3-20-2002"
      ]
     },
     "execution_count": 10,
     "metadata": {},
     "output_type": "execute_result"
    }
   ],
   "source": [
    "# Rows in reverse order\n",
    "df[::-1]\n",
    "# df[5::-1]\n",
    "# df[5:0:-2]"
   ]
  },
  {
   "cell_type": "markdown",
   "id": "baking-wages",
   "metadata": {},
   "source": [
    "#### Retrieving column names"
   ]
  },
  {
   "cell_type": "code",
   "execution_count": 11,
   "id": "loved-catholic",
   "metadata": {},
   "outputs": [
    {
     "data": {
      "text/plain": [
       "Index(['empid', 'ename', 'sal', 'doj'], dtype='object')"
      ]
     },
     "execution_count": 11,
     "metadata": {},
     "output_type": "execute_result"
    }
   ],
   "source": [
    "df.columns"
   ]
  },
  {
   "cell_type": "code",
   "execution_count": 12,
   "id": "covered-court",
   "metadata": {},
   "outputs": [
    {
     "name": "stdout",
     "output_type": "stream",
     "text": [
      "Index(['empid', 'ename', 'sal', 'doj'], dtype='object')\n",
      "<class 'pandas.core.indexes.base.Index'>\n"
     ]
    }
   ],
   "source": [
    "cols = df.columns\n",
    "print(cols)\n",
    "print(type(cols))"
   ]
  },
  {
   "cell_type": "markdown",
   "id": "wanted-filter",
   "metadata": {},
   "source": [
    "#### Retrieving column data"
   ]
  },
  {
   "cell_type": "code",
   "execution_count": 13,
   "id": "purple-earthquake",
   "metadata": {},
   "outputs": [
    {
     "data": {
      "text/plain": [
       "0    1001\n",
       "1    1002\n",
       "2    1003\n",
       "3    1004\n",
       "4    1005\n",
       "5    1006\n",
       "Name: empid, dtype: int64"
      ]
     },
     "execution_count": 13,
     "metadata": {},
     "output_type": "execute_result"
    }
   ],
   "source": [
    "# select empid from df\n",
    "df.empid"
   ]
  },
  {
   "cell_type": "code",
   "execution_count": 14,
   "id": "protective-galaxy",
   "metadata": {},
   "outputs": [
    {
     "data": {
      "text/plain": [
       "0        Ganesh Rao\n",
       "1        Anil Kumar\n",
       "2      Gaurav Gupta\n",
       "3      Hema Chandra\n",
       "4    Laxmi Prasanna\n",
       "5         Anant Nag\n",
       "Name: ename, dtype: object"
      ]
     },
     "execution_count": 14,
     "metadata": {},
     "output_type": "execute_result"
    }
   ],
   "source": [
    "# select ename from df\n",
    "df.ename"
   ]
  },
  {
   "cell_type": "code",
   "execution_count": 15,
   "id": "advanced-tomorrow",
   "metadata": {},
   "outputs": [
    {
     "data": {
      "text/plain": [
       "0    1001\n",
       "1    1002\n",
       "2    1003\n",
       "3    1004\n",
       "4    1005\n",
       "5    1006\n",
       "Name: empid, dtype: int64"
      ]
     },
     "execution_count": 15,
     "metadata": {},
     "output_type": "execute_result"
    }
   ],
   "source": [
    "df['empid']"
   ]
  },
  {
   "cell_type": "code",
   "execution_count": 20,
   "id": "designing-level",
   "metadata": {},
   "outputs": [
    {
     "data": {
      "text/html": [
       "<div>\n",
       "<style scoped>\n",
       "    .dataframe tbody tr th:only-of-type {\n",
       "        vertical-align: middle;\n",
       "    }\n",
       "\n",
       "    .dataframe tbody tr th {\n",
       "        vertical-align: top;\n",
       "    }\n",
       "\n",
       "    .dataframe thead th {\n",
       "        text-align: right;\n",
       "    }\n",
       "</style>\n",
       "<table border=\"1\" class=\"dataframe\">\n",
       "  <thead>\n",
       "    <tr style=\"text-align: right;\">\n",
       "      <th></th>\n",
       "      <th>empid</th>\n",
       "      <th>ename</th>\n",
       "    </tr>\n",
       "  </thead>\n",
       "  <tbody>\n",
       "    <tr>\n",
       "      <th>0</th>\n",
       "      <td>1001</td>\n",
       "      <td>Ganesh Rao</td>\n",
       "    </tr>\n",
       "    <tr>\n",
       "      <th>1</th>\n",
       "      <td>1002</td>\n",
       "      <td>Anil Kumar</td>\n",
       "    </tr>\n",
       "    <tr>\n",
       "      <th>2</th>\n",
       "      <td>1003</td>\n",
       "      <td>Gaurav Gupta</td>\n",
       "    </tr>\n",
       "    <tr>\n",
       "      <th>3</th>\n",
       "      <td>1004</td>\n",
       "      <td>Hema Chandra</td>\n",
       "    </tr>\n",
       "    <tr>\n",
       "      <th>4</th>\n",
       "      <td>1005</td>\n",
       "      <td>Laxmi Prasanna</td>\n",
       "    </tr>\n",
       "    <tr>\n",
       "      <th>5</th>\n",
       "      <td>1006</td>\n",
       "      <td>Anant Nag</td>\n",
       "    </tr>\n",
       "  </tbody>\n",
       "</table>\n",
       "</div>"
      ],
      "text/plain": [
       "   empid           ename\n",
       "0   1001      Ganesh Rao\n",
       "1   1002      Anil Kumar\n",
       "2   1003    Gaurav Gupta\n",
       "3   1004    Hema Chandra\n",
       "4   1005  Laxmi Prasanna\n",
       "5   1006       Anant Nag"
      ]
     },
     "execution_count": 20,
     "metadata": {},
     "output_type": "execute_result"
    }
   ],
   "source": [
    "# select empid, ename from df\n",
    "df[['empid','ename']]"
   ]
  },
  {
   "cell_type": "code",
   "execution_count": 17,
   "id": "sunset-lease",
   "metadata": {},
   "outputs": [
    {
     "data": {
      "text/html": [
       "<div>\n",
       "<style scoped>\n",
       "    .dataframe tbody tr th:only-of-type {\n",
       "        vertical-align: middle;\n",
       "    }\n",
       "\n",
       "    .dataframe tbody tr th {\n",
       "        vertical-align: top;\n",
       "    }\n",
       "\n",
       "    .dataframe thead th {\n",
       "        text-align: right;\n",
       "    }\n",
       "</style>\n",
       "<table border=\"1\" class=\"dataframe\">\n",
       "  <thead>\n",
       "    <tr style=\"text-align: right;\">\n",
       "      <th></th>\n",
       "      <th>empid</th>\n",
       "      <th>ename</th>\n",
       "    </tr>\n",
       "  </thead>\n",
       "  <tbody>\n",
       "    <tr>\n",
       "      <th>0</th>\n",
       "      <td>1001</td>\n",
       "      <td>Ganesh Rao</td>\n",
       "    </tr>\n",
       "    <tr>\n",
       "      <th>1</th>\n",
       "      <td>1002</td>\n",
       "      <td>Anil Kumar</td>\n",
       "    </tr>\n",
       "    <tr>\n",
       "      <th>2</th>\n",
       "      <td>1003</td>\n",
       "      <td>Gaurav Gupta</td>\n",
       "    </tr>\n",
       "    <tr>\n",
       "      <th>3</th>\n",
       "      <td>1004</td>\n",
       "      <td>Hema Chandra</td>\n",
       "    </tr>\n",
       "    <tr>\n",
       "      <th>4</th>\n",
       "      <td>1005</td>\n",
       "      <td>Laxmi Prasanna</td>\n",
       "    </tr>\n",
       "    <tr>\n",
       "      <th>5</th>\n",
       "      <td>1006</td>\n",
       "      <td>Anant Nag</td>\n",
       "    </tr>\n",
       "  </tbody>\n",
       "</table>\n",
       "</div>"
      ],
      "text/plain": [
       "   empid           ename\n",
       "0   1001      Ganesh Rao\n",
       "1   1002      Anil Kumar\n",
       "2   1003    Gaurav Gupta\n",
       "3   1004    Hema Chandra\n",
       "4   1005  Laxmi Prasanna\n",
       "5   1006       Anant Nag"
      ]
     },
     "execution_count": 17,
     "metadata": {},
     "output_type": "execute_result"
    }
   ],
   "source": [
    "opcols = ['empid','ename']\n",
    "df[opcols]"
   ]
  },
  {
   "cell_type": "code",
   "execution_count": 18,
   "id": "reduced-standing",
   "metadata": {},
   "outputs": [
    {
     "ename": "KeyError",
     "evalue": "('empid', 'ename')",
     "output_type": "error",
     "traceback": [
      "\u001b[1;31m---------------------------------------------------------------------------\u001b[0m",
      "\u001b[1;31mKeyError\u001b[0m                                  Traceback (most recent call last)",
      "\u001b[1;32m~\\anaconda3\\lib\\site-packages\\pandas\\core\\indexes\\base.py\u001b[0m in \u001b[0;36mget_loc\u001b[1;34m(self, key, method, tolerance)\u001b[0m\n\u001b[0;32m   2645\u001b[0m             \u001b[1;32mtry\u001b[0m\u001b[1;33m:\u001b[0m\u001b[1;33m\u001b[0m\u001b[1;33m\u001b[0m\u001b[0m\n\u001b[1;32m-> 2646\u001b[1;33m                 \u001b[1;32mreturn\u001b[0m \u001b[0mself\u001b[0m\u001b[1;33m.\u001b[0m\u001b[0m_engine\u001b[0m\u001b[1;33m.\u001b[0m\u001b[0mget_loc\u001b[0m\u001b[1;33m(\u001b[0m\u001b[0mkey\u001b[0m\u001b[1;33m)\u001b[0m\u001b[1;33m\u001b[0m\u001b[1;33m\u001b[0m\u001b[0m\n\u001b[0m\u001b[0;32m   2647\u001b[0m             \u001b[1;32mexcept\u001b[0m \u001b[0mKeyError\u001b[0m\u001b[1;33m:\u001b[0m\u001b[1;33m\u001b[0m\u001b[1;33m\u001b[0m\u001b[0m\n",
      "\u001b[1;32mpandas\\_libs\\index.pyx\u001b[0m in \u001b[0;36mpandas._libs.index.IndexEngine.get_loc\u001b[1;34m()\u001b[0m\n",
      "\u001b[1;32mpandas\\_libs\\index.pyx\u001b[0m in \u001b[0;36mpandas._libs.index.IndexEngine.get_loc\u001b[1;34m()\u001b[0m\n",
      "\u001b[1;32mpandas\\_libs\\hashtable_class_helper.pxi\u001b[0m in \u001b[0;36mpandas._libs.hashtable.PyObjectHashTable.get_item\u001b[1;34m()\u001b[0m\n",
      "\u001b[1;32mpandas\\_libs\\hashtable_class_helper.pxi\u001b[0m in \u001b[0;36mpandas._libs.hashtable.PyObjectHashTable.get_item\u001b[1;34m()\u001b[0m\n",
      "\u001b[1;31mKeyError\u001b[0m: ('empid', 'ename')",
      "\nDuring handling of the above exception, another exception occurred:\n",
      "\u001b[1;31mKeyError\u001b[0m                                  Traceback (most recent call last)",
      "\u001b[1;32m<ipython-input-18-c1b42a2a2382>\u001b[0m in \u001b[0;36m<module>\u001b[1;34m\u001b[0m\n\u001b[1;32m----> 1\u001b[1;33m \u001b[0mdf\u001b[0m\u001b[1;33m[\u001b[0m\u001b[1;34m'empid'\u001b[0m\u001b[1;33m,\u001b[0m\u001b[1;34m'ename'\u001b[0m\u001b[1;33m]\u001b[0m\u001b[1;33m\u001b[0m\u001b[1;33m\u001b[0m\u001b[0m\n\u001b[0m",
      "\u001b[1;32m~\\anaconda3\\lib\\site-packages\\pandas\\core\\frame.py\u001b[0m in \u001b[0;36m__getitem__\u001b[1;34m(self, key)\u001b[0m\n\u001b[0;32m   2798\u001b[0m             \u001b[1;32mif\u001b[0m \u001b[0mself\u001b[0m\u001b[1;33m.\u001b[0m\u001b[0mcolumns\u001b[0m\u001b[1;33m.\u001b[0m\u001b[0mnlevels\u001b[0m \u001b[1;33m>\u001b[0m \u001b[1;36m1\u001b[0m\u001b[1;33m:\u001b[0m\u001b[1;33m\u001b[0m\u001b[1;33m\u001b[0m\u001b[0m\n\u001b[0;32m   2799\u001b[0m                 \u001b[1;32mreturn\u001b[0m \u001b[0mself\u001b[0m\u001b[1;33m.\u001b[0m\u001b[0m_getitem_multilevel\u001b[0m\u001b[1;33m(\u001b[0m\u001b[0mkey\u001b[0m\u001b[1;33m)\u001b[0m\u001b[1;33m\u001b[0m\u001b[1;33m\u001b[0m\u001b[0m\n\u001b[1;32m-> 2800\u001b[1;33m             \u001b[0mindexer\u001b[0m \u001b[1;33m=\u001b[0m \u001b[0mself\u001b[0m\u001b[1;33m.\u001b[0m\u001b[0mcolumns\u001b[0m\u001b[1;33m.\u001b[0m\u001b[0mget_loc\u001b[0m\u001b[1;33m(\u001b[0m\u001b[0mkey\u001b[0m\u001b[1;33m)\u001b[0m\u001b[1;33m\u001b[0m\u001b[1;33m\u001b[0m\u001b[0m\n\u001b[0m\u001b[0;32m   2801\u001b[0m             \u001b[1;32mif\u001b[0m \u001b[0mis_integer\u001b[0m\u001b[1;33m(\u001b[0m\u001b[0mindexer\u001b[0m\u001b[1;33m)\u001b[0m\u001b[1;33m:\u001b[0m\u001b[1;33m\u001b[0m\u001b[1;33m\u001b[0m\u001b[0m\n\u001b[0;32m   2802\u001b[0m                 \u001b[0mindexer\u001b[0m \u001b[1;33m=\u001b[0m \u001b[1;33m[\u001b[0m\u001b[0mindexer\u001b[0m\u001b[1;33m]\u001b[0m\u001b[1;33m\u001b[0m\u001b[1;33m\u001b[0m\u001b[0m\n",
      "\u001b[1;32m~\\anaconda3\\lib\\site-packages\\pandas\\core\\indexes\\base.py\u001b[0m in \u001b[0;36mget_loc\u001b[1;34m(self, key, method, tolerance)\u001b[0m\n\u001b[0;32m   2646\u001b[0m                 \u001b[1;32mreturn\u001b[0m \u001b[0mself\u001b[0m\u001b[1;33m.\u001b[0m\u001b[0m_engine\u001b[0m\u001b[1;33m.\u001b[0m\u001b[0mget_loc\u001b[0m\u001b[1;33m(\u001b[0m\u001b[0mkey\u001b[0m\u001b[1;33m)\u001b[0m\u001b[1;33m\u001b[0m\u001b[1;33m\u001b[0m\u001b[0m\n\u001b[0;32m   2647\u001b[0m             \u001b[1;32mexcept\u001b[0m \u001b[0mKeyError\u001b[0m\u001b[1;33m:\u001b[0m\u001b[1;33m\u001b[0m\u001b[1;33m\u001b[0m\u001b[0m\n\u001b[1;32m-> 2648\u001b[1;33m                 \u001b[1;32mreturn\u001b[0m \u001b[0mself\u001b[0m\u001b[1;33m.\u001b[0m\u001b[0m_engine\u001b[0m\u001b[1;33m.\u001b[0m\u001b[0mget_loc\u001b[0m\u001b[1;33m(\u001b[0m\u001b[0mself\u001b[0m\u001b[1;33m.\u001b[0m\u001b[0m_maybe_cast_indexer\u001b[0m\u001b[1;33m(\u001b[0m\u001b[0mkey\u001b[0m\u001b[1;33m)\u001b[0m\u001b[1;33m)\u001b[0m\u001b[1;33m\u001b[0m\u001b[1;33m\u001b[0m\u001b[0m\n\u001b[0m\u001b[0;32m   2649\u001b[0m         \u001b[0mindexer\u001b[0m \u001b[1;33m=\u001b[0m \u001b[0mself\u001b[0m\u001b[1;33m.\u001b[0m\u001b[0mget_indexer\u001b[0m\u001b[1;33m(\u001b[0m\u001b[1;33m[\u001b[0m\u001b[0mkey\u001b[0m\u001b[1;33m]\u001b[0m\u001b[1;33m,\u001b[0m \u001b[0mmethod\u001b[0m\u001b[1;33m=\u001b[0m\u001b[0mmethod\u001b[0m\u001b[1;33m,\u001b[0m \u001b[0mtolerance\u001b[0m\u001b[1;33m=\u001b[0m\u001b[0mtolerance\u001b[0m\u001b[1;33m)\u001b[0m\u001b[1;33m\u001b[0m\u001b[1;33m\u001b[0m\u001b[0m\n\u001b[0;32m   2650\u001b[0m         \u001b[1;32mif\u001b[0m \u001b[0mindexer\u001b[0m\u001b[1;33m.\u001b[0m\u001b[0mndim\u001b[0m \u001b[1;33m>\u001b[0m \u001b[1;36m1\u001b[0m \u001b[1;32mor\u001b[0m \u001b[0mindexer\u001b[0m\u001b[1;33m.\u001b[0m\u001b[0msize\u001b[0m \u001b[1;33m>\u001b[0m \u001b[1;36m1\u001b[0m\u001b[1;33m:\u001b[0m\u001b[1;33m\u001b[0m\u001b[1;33m\u001b[0m\u001b[0m\n",
      "\u001b[1;32mpandas\\_libs\\index.pyx\u001b[0m in \u001b[0;36mpandas._libs.index.IndexEngine.get_loc\u001b[1;34m()\u001b[0m\n",
      "\u001b[1;32mpandas\\_libs\\index.pyx\u001b[0m in \u001b[0;36mpandas._libs.index.IndexEngine.get_loc\u001b[1;34m()\u001b[0m\n",
      "\u001b[1;32mpandas\\_libs\\hashtable_class_helper.pxi\u001b[0m in \u001b[0;36mpandas._libs.hashtable.PyObjectHashTable.get_item\u001b[1;34m()\u001b[0m\n",
      "\u001b[1;32mpandas\\_libs\\hashtable_class_helper.pxi\u001b[0m in \u001b[0;36mpandas._libs.hashtable.PyObjectHashTable.get_item\u001b[1;34m()\u001b[0m\n",
      "\u001b[1;31mKeyError\u001b[0m: ('empid', 'ename')"
     ]
    }
   ],
   "source": [
    "df['empid','ename']"
   ]
  },
  {
   "cell_type": "markdown",
   "id": "educated-foundation",
   "metadata": {},
   "source": [
    "#### Finding maximum and minimum values"
   ]
  },
  {
   "cell_type": "code",
   "execution_count": 19,
   "id": "communist-victim",
   "metadata": {},
   "outputs": [
    {
     "data": {
      "text/plain": [
       "23000.5"
      ]
     },
     "execution_count": 19,
     "metadata": {},
     "output_type": "execute_result"
    }
   ],
   "source": [
    "# select max(sal) from df\n",
    "df['sal'].max()"
   ]
  },
  {
   "cell_type": "code",
   "execution_count": 20,
   "id": "blocked-question",
   "metadata": {},
   "outputs": [
    {
     "data": {
      "text/plain": [
       "23000.5"
      ]
     },
     "execution_count": 20,
     "metadata": {},
     "output_type": "execute_result"
    }
   ],
   "source": [
    "df.sal.max()"
   ]
  },
  {
   "cell_type": "code",
   "execution_count": 21,
   "id": "cheap-queen",
   "metadata": {},
   "outputs": [
    {
     "data": {
      "text/plain": [
       "9999.99"
      ]
     },
     "execution_count": 21,
     "metadata": {},
     "output_type": "execute_result"
    }
   ],
   "source": [
    "df['sal'].min()"
   ]
  },
  {
   "cell_type": "markdown",
   "id": "bottom-wildlife",
   "metadata": {},
   "source": [
    "#### Performing queries on data"
   ]
  },
  {
   "cell_type": "code",
   "execution_count": 26,
   "id": "negative-broad",
   "metadata": {},
   "outputs": [
    {
     "data": {
      "text/html": [
       "<div>\n",
       "<style scoped>\n",
       "    .dataframe tbody tr th:only-of-type {\n",
       "        vertical-align: middle;\n",
       "    }\n",
       "\n",
       "    .dataframe tbody tr th {\n",
       "        vertical-align: top;\n",
       "    }\n",
       "\n",
       "    .dataframe thead th {\n",
       "        text-align: right;\n",
       "    }\n",
       "</style>\n",
       "<table border=\"1\" class=\"dataframe\">\n",
       "  <thead>\n",
       "    <tr style=\"text-align: right;\">\n",
       "      <th></th>\n",
       "      <th>empid</th>\n",
       "      <th>ename</th>\n",
       "      <th>sal</th>\n",
       "      <th>doj</th>\n",
       "    </tr>\n",
       "  </thead>\n",
       "  <tbody>\n",
       "    <tr>\n",
       "      <th>1</th>\n",
       "      <td>1002</td>\n",
       "      <td>Anil Kumar</td>\n",
       "      <td>23000.50</td>\n",
       "      <td>3-20-2002</td>\n",
       "    </tr>\n",
       "    <tr>\n",
       "      <th>2</th>\n",
       "      <td>1003</td>\n",
       "      <td>Gaurav Gupta</td>\n",
       "      <td>18000.53</td>\n",
       "      <td>03-03-2002</td>\n",
       "    </tr>\n",
       "    <tr>\n",
       "      <th>3</th>\n",
       "      <td>1004</td>\n",
       "      <td>Hema Chandra</td>\n",
       "      <td>16500.50</td>\n",
       "      <td>09-10-2000</td>\n",
       "    </tr>\n",
       "    <tr>\n",
       "      <th>4</th>\n",
       "      <td>1005</td>\n",
       "      <td>Laxmi Prasanna</td>\n",
       "      <td>12000.75</td>\n",
       "      <td>10-08-2000</td>\n",
       "    </tr>\n",
       "  </tbody>\n",
       "</table>\n",
       "</div>"
      ],
      "text/plain": [
       "   empid           ename       sal         doj\n",
       "1   1002      Anil Kumar  23000.50   3-20-2002\n",
       "2   1003    Gaurav Gupta  18000.53  03-03-2002\n",
       "3   1004    Hema Chandra  16500.50  09-10-2000\n",
       "4   1005  Laxmi Prasanna  12000.75  10-08-2000"
      ]
     },
     "execution_count": 26,
     "metadata": {},
     "output_type": "execute_result"
    }
   ],
   "source": [
    "# show rows where sal is > 10000\n",
    "# select * from df where sal > 10000\n",
    "\n",
    "df[  df['sal']    >  10000   ]\n",
    "\n",
    "# df[df.sal > 10000]"
   ]
  },
  {
   "cell_type": "code",
   "execution_count": 27,
   "id": "forty-cloud",
   "metadata": {},
   "outputs": [
    {
     "data": {
      "text/html": [
       "<div>\n",
       "<style scoped>\n",
       "    .dataframe tbody tr th:only-of-type {\n",
       "        vertical-align: middle;\n",
       "    }\n",
       "\n",
       "    .dataframe tbody tr th {\n",
       "        vertical-align: top;\n",
       "    }\n",
       "\n",
       "    .dataframe thead th {\n",
       "        text-align: right;\n",
       "    }\n",
       "</style>\n",
       "<table border=\"1\" class=\"dataframe\">\n",
       "  <thead>\n",
       "    <tr style=\"text-align: right;\">\n",
       "      <th></th>\n",
       "      <th>empid</th>\n",
       "      <th>ename</th>\n",
       "      <th>sal</th>\n",
       "      <th>doj</th>\n",
       "    </tr>\n",
       "  </thead>\n",
       "  <tbody>\n",
       "    <tr>\n",
       "      <th>5</th>\n",
       "      <td>1006</td>\n",
       "      <td>Anant Nag</td>\n",
       "      <td>9999.99</td>\n",
       "      <td>09-09-1999</td>\n",
       "    </tr>\n",
       "  </tbody>\n",
       "</table>\n",
       "</div>"
      ],
      "text/plain": [
       "   empid      ename      sal         doj\n",
       "5   1006  Anant Nag  9999.99  09-09-1999"
      ]
     },
     "execution_count": 27,
     "metadata": {},
     "output_type": "execute_result"
    }
   ],
   "source": [
    "# show rows where ename is Anant Nag\n",
    "df[df.ename == 'Anant Nag']"
   ]
  },
  {
   "cell_type": "code",
   "execution_count": 29,
   "id": "amended-insertion",
   "metadata": {},
   "outputs": [
    {
     "data": {
      "text/html": [
       "<div>\n",
       "<style scoped>\n",
       "    .dataframe tbody tr th:only-of-type {\n",
       "        vertical-align: middle;\n",
       "    }\n",
       "\n",
       "    .dataframe tbody tr th {\n",
       "        vertical-align: top;\n",
       "    }\n",
       "\n",
       "    .dataframe thead th {\n",
       "        text-align: right;\n",
       "    }\n",
       "</style>\n",
       "<table border=\"1\" class=\"dataframe\">\n",
       "  <thead>\n",
       "    <tr style=\"text-align: right;\">\n",
       "      <th></th>\n",
       "      <th>empid</th>\n",
       "      <th>ename</th>\n",
       "      <th>sal</th>\n",
       "      <th>doj</th>\n",
       "    </tr>\n",
       "  </thead>\n",
       "  <tbody>\n",
       "    <tr>\n",
       "      <th>1</th>\n",
       "      <td>1002</td>\n",
       "      <td>Anil Kumar</td>\n",
       "      <td>23000.5</td>\n",
       "      <td>3-20-2002</td>\n",
       "    </tr>\n",
       "  </tbody>\n",
       "</table>\n",
       "</div>"
      ],
      "text/plain": [
       "   empid       ename      sal        doj\n",
       "1   1002  Anil Kumar  23000.5  3-20-2002"
      ]
     },
     "execution_count": 29,
     "metadata": {},
     "output_type": "execute_result"
    }
   ],
   "source": [
    "# show rows where sal is maximum\n",
    "maxsal = df.sal.max()\n",
    "df[df.sal == maxsal]\n",
    "\n",
    "# OR\n",
    "# df[df.sal == df.sal.max()]"
   ]
  },
  {
   "cell_type": "code",
   "execution_count": 30,
   "id": "generous-blood",
   "metadata": {},
   "outputs": [
    {
     "data": {
      "text/html": [
       "<div>\n",
       "<style scoped>\n",
       "    .dataframe tbody tr th:only-of-type {\n",
       "        vertical-align: middle;\n",
       "    }\n",
       "\n",
       "    .dataframe tbody tr th {\n",
       "        vertical-align: top;\n",
       "    }\n",
       "\n",
       "    .dataframe thead th {\n",
       "        text-align: right;\n",
       "    }\n",
       "</style>\n",
       "<table border=\"1\" class=\"dataframe\">\n",
       "  <thead>\n",
       "    <tr style=\"text-align: right;\">\n",
       "      <th></th>\n",
       "      <th>empid</th>\n",
       "      <th>ename</th>\n",
       "    </tr>\n",
       "  </thead>\n",
       "  <tbody>\n",
       "    <tr>\n",
       "      <th>1</th>\n",
       "      <td>1002</td>\n",
       "      <td>Anil Kumar</td>\n",
       "    </tr>\n",
       "    <tr>\n",
       "      <th>2</th>\n",
       "      <td>1003</td>\n",
       "      <td>Gaurav Gupta</td>\n",
       "    </tr>\n",
       "    <tr>\n",
       "      <th>3</th>\n",
       "      <td>1004</td>\n",
       "      <td>Hema Chandra</td>\n",
       "    </tr>\n",
       "    <tr>\n",
       "      <th>4</th>\n",
       "      <td>1005</td>\n",
       "      <td>Laxmi Prasanna</td>\n",
       "    </tr>\n",
       "  </tbody>\n",
       "</table>\n",
       "</div>"
      ],
      "text/plain": [
       "   empid           ename\n",
       "1   1002      Anil Kumar\n",
       "2   1003    Gaurav Gupta\n",
       "3   1004    Hema Chandra\n",
       "4   1005  Laxmi Prasanna"
      ]
     },
     "execution_count": 30,
     "metadata": {},
     "output_type": "execute_result"
    }
   ],
   "source": [
    "# show selected columns only where sal is maximum\n",
    "df[['empid','ename']][df.sal>10000]"
   ]
  },
  {
   "cell_type": "markdown",
   "id": "attached-wound",
   "metadata": {},
   "source": [
    "#### Sorting data"
   ]
  },
  {
   "cell_type": "code",
   "execution_count": 31,
   "id": "dynamic-organizer",
   "metadata": {},
   "outputs": [
    {
     "data": {
      "text/html": [
       "<div>\n",
       "<style scoped>\n",
       "    .dataframe tbody tr th:only-of-type {\n",
       "        vertical-align: middle;\n",
       "    }\n",
       "\n",
       "    .dataframe tbody tr th {\n",
       "        vertical-align: top;\n",
       "    }\n",
       "\n",
       "    .dataframe thead th {\n",
       "        text-align: right;\n",
       "    }\n",
       "</style>\n",
       "<table border=\"1\" class=\"dataframe\">\n",
       "  <thead>\n",
       "    <tr style=\"text-align: right;\">\n",
       "      <th></th>\n",
       "      <th>empid</th>\n",
       "      <th>ename</th>\n",
       "      <th>sal</th>\n",
       "      <th>doj</th>\n",
       "    </tr>\n",
       "  </thead>\n",
       "  <tbody>\n",
       "    <tr>\n",
       "      <th>0</th>\n",
       "      <td>1001</td>\n",
       "      <td>Ganesh Rao</td>\n",
       "      <td>10000.00</td>\n",
       "      <td>10-10-2000</td>\n",
       "    </tr>\n",
       "    <tr>\n",
       "      <th>1</th>\n",
       "      <td>1002</td>\n",
       "      <td>Anil Kumar</td>\n",
       "      <td>23000.50</td>\n",
       "      <td>3-20-2002</td>\n",
       "    </tr>\n",
       "    <tr>\n",
       "      <th>2</th>\n",
       "      <td>1003</td>\n",
       "      <td>Gaurav Gupta</td>\n",
       "      <td>18000.53</td>\n",
       "      <td>03-03-2002</td>\n",
       "    </tr>\n",
       "    <tr>\n",
       "      <th>3</th>\n",
       "      <td>1004</td>\n",
       "      <td>Hema Chandra</td>\n",
       "      <td>16500.50</td>\n",
       "      <td>09-10-2000</td>\n",
       "    </tr>\n",
       "    <tr>\n",
       "      <th>4</th>\n",
       "      <td>1005</td>\n",
       "      <td>Laxmi Prasanna</td>\n",
       "      <td>12000.75</td>\n",
       "      <td>10-08-2000</td>\n",
       "    </tr>\n",
       "    <tr>\n",
       "      <th>5</th>\n",
       "      <td>1006</td>\n",
       "      <td>Anant Nag</td>\n",
       "      <td>9999.99</td>\n",
       "      <td>09-09-1999</td>\n",
       "    </tr>\n",
       "  </tbody>\n",
       "</table>\n",
       "</div>"
      ],
      "text/plain": [
       "   empid           ename       sal         doj\n",
       "0   1001      Ganesh Rao  10000.00  10-10-2000\n",
       "1   1002      Anil Kumar  23000.50   3-20-2002\n",
       "2   1003    Gaurav Gupta  18000.53  03-03-2002\n",
       "3   1004    Hema Chandra  16500.50  09-10-2000\n",
       "4   1005  Laxmi Prasanna  12000.75  10-08-2000\n",
       "5   1006       Anant Nag   9999.99  09-09-1999"
      ]
     },
     "execution_count": 31,
     "metadata": {},
     "output_type": "execute_result"
    }
   ],
   "source": [
    "df"
   ]
  },
  {
   "cell_type": "code",
   "execution_count": 32,
   "id": "turned-symbol",
   "metadata": {},
   "outputs": [
    {
     "data": {
      "text/html": [
       "<div>\n",
       "<style scoped>\n",
       "    .dataframe tbody tr th:only-of-type {\n",
       "        vertical-align: middle;\n",
       "    }\n",
       "\n",
       "    .dataframe tbody tr th {\n",
       "        vertical-align: top;\n",
       "    }\n",
       "\n",
       "    .dataframe thead th {\n",
       "        text-align: right;\n",
       "    }\n",
       "</style>\n",
       "<table border=\"1\" class=\"dataframe\">\n",
       "  <thead>\n",
       "    <tr style=\"text-align: right;\">\n",
       "      <th></th>\n",
       "      <th>empid</th>\n",
       "      <th>ename</th>\n",
       "      <th>sal</th>\n",
       "      <th>doj</th>\n",
       "    </tr>\n",
       "  </thead>\n",
       "  <tbody>\n",
       "    <tr>\n",
       "      <th>5</th>\n",
       "      <td>1006</td>\n",
       "      <td>Anant Nag</td>\n",
       "      <td>9999.99</td>\n",
       "      <td>09-09-1999</td>\n",
       "    </tr>\n",
       "    <tr>\n",
       "      <th>0</th>\n",
       "      <td>1001</td>\n",
       "      <td>Ganesh Rao</td>\n",
       "      <td>10000.00</td>\n",
       "      <td>10-10-2000</td>\n",
       "    </tr>\n",
       "    <tr>\n",
       "      <th>4</th>\n",
       "      <td>1005</td>\n",
       "      <td>Laxmi Prasanna</td>\n",
       "      <td>12000.75</td>\n",
       "      <td>10-08-2000</td>\n",
       "    </tr>\n",
       "    <tr>\n",
       "      <th>3</th>\n",
       "      <td>1004</td>\n",
       "      <td>Hema Chandra</td>\n",
       "      <td>16500.50</td>\n",
       "      <td>09-10-2000</td>\n",
       "    </tr>\n",
       "    <tr>\n",
       "      <th>2</th>\n",
       "      <td>1003</td>\n",
       "      <td>Gaurav Gupta</td>\n",
       "      <td>18000.53</td>\n",
       "      <td>03-03-2002</td>\n",
       "    </tr>\n",
       "    <tr>\n",
       "      <th>1</th>\n",
       "      <td>1002</td>\n",
       "      <td>Anil Kumar</td>\n",
       "      <td>23000.50</td>\n",
       "      <td>3-20-2002</td>\n",
       "    </tr>\n",
       "  </tbody>\n",
       "</table>\n",
       "</div>"
      ],
      "text/plain": [
       "   empid           ename       sal         doj\n",
       "5   1006       Anant Nag   9999.99  09-09-1999\n",
       "0   1001      Ganesh Rao  10000.00  10-10-2000\n",
       "4   1005  Laxmi Prasanna  12000.75  10-08-2000\n",
       "3   1004    Hema Chandra  16500.50  09-10-2000\n",
       "2   1003    Gaurav Gupta  18000.53  03-03-2002\n",
       "1   1002      Anil Kumar  23000.50   3-20-2002"
      ]
     },
     "execution_count": 32,
     "metadata": {},
     "output_type": "execute_result"
    }
   ],
   "source": [
    "df1 = df.sort_values('sal')\n",
    "df1"
   ]
  },
  {
   "cell_type": "code",
   "execution_count": 33,
   "id": "electronic-basic",
   "metadata": {},
   "outputs": [
    {
     "data": {
      "text/html": [
       "<div>\n",
       "<style scoped>\n",
       "    .dataframe tbody tr th:only-of-type {\n",
       "        vertical-align: middle;\n",
       "    }\n",
       "\n",
       "    .dataframe tbody tr th {\n",
       "        vertical-align: top;\n",
       "    }\n",
       "\n",
       "    .dataframe thead th {\n",
       "        text-align: right;\n",
       "    }\n",
       "</style>\n",
       "<table border=\"1\" class=\"dataframe\">\n",
       "  <thead>\n",
       "    <tr style=\"text-align: right;\">\n",
       "      <th></th>\n",
       "      <th>empid</th>\n",
       "      <th>ename</th>\n",
       "      <th>sal</th>\n",
       "      <th>doj</th>\n",
       "    </tr>\n",
       "  </thead>\n",
       "  <tbody>\n",
       "    <tr>\n",
       "      <th>4</th>\n",
       "      <td>1005</td>\n",
       "      <td>Laxmi Prasanna</td>\n",
       "      <td>12000.75</td>\n",
       "      <td>10-08-2000</td>\n",
       "    </tr>\n",
       "    <tr>\n",
       "      <th>3</th>\n",
       "      <td>1004</td>\n",
       "      <td>Hema Chandra</td>\n",
       "      <td>16500.50</td>\n",
       "      <td>09-10-2000</td>\n",
       "    </tr>\n",
       "    <tr>\n",
       "      <th>2</th>\n",
       "      <td>1003</td>\n",
       "      <td>Gaurav Gupta</td>\n",
       "      <td>18000.53</td>\n",
       "      <td>03-03-2002</td>\n",
       "    </tr>\n",
       "    <tr>\n",
       "      <th>0</th>\n",
       "      <td>1001</td>\n",
       "      <td>Ganesh Rao</td>\n",
       "      <td>10000.00</td>\n",
       "      <td>10-10-2000</td>\n",
       "    </tr>\n",
       "    <tr>\n",
       "      <th>1</th>\n",
       "      <td>1002</td>\n",
       "      <td>Anil Kumar</td>\n",
       "      <td>23000.50</td>\n",
       "      <td>3-20-2002</td>\n",
       "    </tr>\n",
       "    <tr>\n",
       "      <th>5</th>\n",
       "      <td>1006</td>\n",
       "      <td>Anant Nag</td>\n",
       "      <td>9999.99</td>\n",
       "      <td>09-09-1999</td>\n",
       "    </tr>\n",
       "  </tbody>\n",
       "</table>\n",
       "</div>"
      ],
      "text/plain": [
       "   empid           ename       sal         doj\n",
       "4   1005  Laxmi Prasanna  12000.75  10-08-2000\n",
       "3   1004    Hema Chandra  16500.50  09-10-2000\n",
       "2   1003    Gaurav Gupta  18000.53  03-03-2002\n",
       "0   1001      Ganesh Rao  10000.00  10-10-2000\n",
       "1   1002      Anil Kumar  23000.50   3-20-2002\n",
       "5   1006       Anant Nag   9999.99  09-09-1999"
      ]
     },
     "execution_count": 33,
     "metadata": {},
     "output_type": "execute_result"
    }
   ],
   "source": [
    "df1 = df.sort_values('ename',ascending=False) # descending order\n",
    "df1"
   ]
  },
  {
   "cell_type": "code",
   "execution_count": 34,
   "id": "commercial-hammer",
   "metadata": {},
   "outputs": [
    {
     "data": {
      "text/html": [
       "<div>\n",
       "<style scoped>\n",
       "    .dataframe tbody tr th:only-of-type {\n",
       "        vertical-align: middle;\n",
       "    }\n",
       "\n",
       "    .dataframe tbody tr th {\n",
       "        vertical-align: top;\n",
       "    }\n",
       "\n",
       "    .dataframe thead th {\n",
       "        text-align: right;\n",
       "    }\n",
       "</style>\n",
       "<table border=\"1\" class=\"dataframe\">\n",
       "  <thead>\n",
       "    <tr style=\"text-align: right;\">\n",
       "      <th></th>\n",
       "      <th>empid</th>\n",
       "      <th>ename</th>\n",
       "      <th>sal</th>\n",
       "      <th>doj</th>\n",
       "    </tr>\n",
       "  </thead>\n",
       "  <tbody>\n",
       "    <tr>\n",
       "      <th>0</th>\n",
       "      <td>1001</td>\n",
       "      <td>Ganesh Rao</td>\n",
       "      <td>10000.00</td>\n",
       "      <td>10-10-2000</td>\n",
       "    </tr>\n",
       "    <tr>\n",
       "      <th>1</th>\n",
       "      <td>1002</td>\n",
       "      <td>Anil Kumar</td>\n",
       "      <td>23000.50</td>\n",
       "      <td>3-20-2002</td>\n",
       "    </tr>\n",
       "    <tr>\n",
       "      <th>2</th>\n",
       "      <td>1003</td>\n",
       "      <td>Gaurav Gupta</td>\n",
       "      <td>18000.53</td>\n",
       "      <td>03-03-2002</td>\n",
       "    </tr>\n",
       "    <tr>\n",
       "      <th>3</th>\n",
       "      <td>1004</td>\n",
       "      <td>Hema Chandra</td>\n",
       "      <td>16500.50</td>\n",
       "      <td>09-10-2000</td>\n",
       "    </tr>\n",
       "    <tr>\n",
       "      <th>4</th>\n",
       "      <td>1005</td>\n",
       "      <td>Laxmi Prasanna</td>\n",
       "      <td>12000.75</td>\n",
       "      <td>10-08-2000</td>\n",
       "    </tr>\n",
       "    <tr>\n",
       "      <th>5</th>\n",
       "      <td>1006</td>\n",
       "      <td>Anant Nag</td>\n",
       "      <td>9999.99</td>\n",
       "      <td>09-09-1999</td>\n",
       "    </tr>\n",
       "  </tbody>\n",
       "</table>\n",
       "</div>"
      ],
      "text/plain": [
       "   empid           ename       sal         doj\n",
       "0   1001      Ganesh Rao  10000.00  10-10-2000\n",
       "1   1002      Anil Kumar  23000.50   3-20-2002\n",
       "2   1003    Gaurav Gupta  18000.53  03-03-2002\n",
       "3   1004    Hema Chandra  16500.50  09-10-2000\n",
       "4   1005  Laxmi Prasanna  12000.75  10-08-2000\n",
       "5   1006       Anant Nag   9999.99  09-09-1999"
      ]
     },
     "execution_count": 34,
     "metadata": {},
     "output_type": "execute_result"
    }
   ],
   "source": [
    "df"
   ]
  },
  {
   "cell_type": "code",
   "execution_count": 36,
   "id": "electric-literature",
   "metadata": {},
   "outputs": [
    {
     "data": {
      "text/html": [
       "<div>\n",
       "<style scoped>\n",
       "    .dataframe tbody tr th:only-of-type {\n",
       "        vertical-align: middle;\n",
       "    }\n",
       "\n",
       "    .dataframe tbody tr th {\n",
       "        vertical-align: top;\n",
       "    }\n",
       "\n",
       "    .dataframe thead th {\n",
       "        text-align: right;\n",
       "    }\n",
       "</style>\n",
       "<table border=\"1\" class=\"dataframe\">\n",
       "  <thead>\n",
       "    <tr style=\"text-align: right;\">\n",
       "      <th></th>\n",
       "      <th>empid</th>\n",
       "      <th>ename</th>\n",
       "      <th>sal</th>\n",
       "      <th>doj</th>\n",
       "    </tr>\n",
       "  </thead>\n",
       "  <tbody>\n",
       "    <tr>\n",
       "      <th>2</th>\n",
       "      <td>1003</td>\n",
       "      <td>Gaurav Gupta</td>\n",
       "      <td>18000.53</td>\n",
       "      <td>03-03-2002</td>\n",
       "    </tr>\n",
       "    <tr>\n",
       "      <th>5</th>\n",
       "      <td>1006</td>\n",
       "      <td>Anant Nag</td>\n",
       "      <td>9999.99</td>\n",
       "      <td>09-09-1999</td>\n",
       "    </tr>\n",
       "    <tr>\n",
       "      <th>3</th>\n",
       "      <td>1004</td>\n",
       "      <td>Hema Chandra</td>\n",
       "      <td>16500.50</td>\n",
       "      <td>09-10-2000</td>\n",
       "    </tr>\n",
       "    <tr>\n",
       "      <th>4</th>\n",
       "      <td>1005</td>\n",
       "      <td>Laxmi Prasanna</td>\n",
       "      <td>12000.75</td>\n",
       "      <td>10-08-2000</td>\n",
       "    </tr>\n",
       "    <tr>\n",
       "      <th>0</th>\n",
       "      <td>1001</td>\n",
       "      <td>Ganesh Rao</td>\n",
       "      <td>10000.00</td>\n",
       "      <td>10-10-2000</td>\n",
       "    </tr>\n",
       "    <tr>\n",
       "      <th>1</th>\n",
       "      <td>1002</td>\n",
       "      <td>Anil Kumar</td>\n",
       "      <td>23000.50</td>\n",
       "      <td>3-20-2002</td>\n",
       "    </tr>\n",
       "  </tbody>\n",
       "</table>\n",
       "</div>"
      ],
      "text/plain": [
       "   empid           ename       sal         doj\n",
       "2   1003    Gaurav Gupta  18000.53  03-03-2002\n",
       "5   1006       Anant Nag   9999.99  09-09-1999\n",
       "3   1004    Hema Chandra  16500.50  09-10-2000\n",
       "4   1005  Laxmi Prasanna  12000.75  10-08-2000\n",
       "0   1001      Ganesh Rao  10000.00  10-10-2000\n",
       "1   1002      Anil Kumar  23000.50   3-20-2002"
      ]
     },
     "execution_count": 36,
     "metadata": {},
     "output_type": "execute_result"
    }
   ],
   "source": [
    "df1 = df.sort_values('doj')\n",
    "df1"
   ]
  },
  {
   "cell_type": "code",
   "execution_count": 37,
   "id": "asian-homework",
   "metadata": {},
   "outputs": [
    {
     "data": {
      "text/html": [
       "<div>\n",
       "<style scoped>\n",
       "    .dataframe tbody tr th:only-of-type {\n",
       "        vertical-align: middle;\n",
       "    }\n",
       "\n",
       "    .dataframe tbody tr th {\n",
       "        vertical-align: top;\n",
       "    }\n",
       "\n",
       "    .dataframe thead th {\n",
       "        text-align: right;\n",
       "    }\n",
       "</style>\n",
       "<table border=\"1\" class=\"dataframe\">\n",
       "  <thead>\n",
       "    <tr style=\"text-align: right;\">\n",
       "      <th></th>\n",
       "      <th>empid</th>\n",
       "      <th>ename</th>\n",
       "      <th>sal</th>\n",
       "      <th>doj</th>\n",
       "    </tr>\n",
       "  </thead>\n",
       "  <tbody>\n",
       "    <tr>\n",
       "      <th>0</th>\n",
       "      <td>1001</td>\n",
       "      <td>Ganesh Rao</td>\n",
       "      <td>10000.00</td>\n",
       "      <td>2000-10-10</td>\n",
       "    </tr>\n",
       "    <tr>\n",
       "      <th>1</th>\n",
       "      <td>1002</td>\n",
       "      <td>Anil Kumar</td>\n",
       "      <td>23000.50</td>\n",
       "      <td>2002-03-20</td>\n",
       "    </tr>\n",
       "    <tr>\n",
       "      <th>2</th>\n",
       "      <td>1003</td>\n",
       "      <td>Gaurav Gupta</td>\n",
       "      <td>18000.53</td>\n",
       "      <td>2002-03-03</td>\n",
       "    </tr>\n",
       "    <tr>\n",
       "      <th>3</th>\n",
       "      <td>1004</td>\n",
       "      <td>Hema Chandra</td>\n",
       "      <td>16500.50</td>\n",
       "      <td>2000-09-10</td>\n",
       "    </tr>\n",
       "    <tr>\n",
       "      <th>4</th>\n",
       "      <td>1005</td>\n",
       "      <td>Laxmi Prasanna</td>\n",
       "      <td>12000.75</td>\n",
       "      <td>2000-10-08</td>\n",
       "    </tr>\n",
       "    <tr>\n",
       "      <th>5</th>\n",
       "      <td>1006</td>\n",
       "      <td>Anant Nag</td>\n",
       "      <td>9999.99</td>\n",
       "      <td>1999-09-09</td>\n",
       "    </tr>\n",
       "  </tbody>\n",
       "</table>\n",
       "</div>"
      ],
      "text/plain": [
       "   empid           ename       sal        doj\n",
       "0   1001      Ganesh Rao  10000.00 2000-10-10\n",
       "1   1002      Anil Kumar  23000.50 2002-03-20\n",
       "2   1003    Gaurav Gupta  18000.53 2002-03-03\n",
       "3   1004    Hema Chandra  16500.50 2000-09-10\n",
       "4   1005  Laxmi Prasanna  12000.75 2000-10-08\n",
       "5   1006       Anant Nag   9999.99 1999-09-09"
      ]
     },
     "execution_count": 37,
     "metadata": {},
     "output_type": "execute_result"
    }
   ],
   "source": [
    "# sort date\n",
    "df = pd.read_csv('practical-12-a-empdata.csv',parse_dates=['doj']) # notice parameters\n",
    "\n",
    "df"
   ]
  },
  {
   "cell_type": "code",
   "execution_count": 38,
   "id": "departmental-princess",
   "metadata": {},
   "outputs": [
    {
     "data": {
      "text/html": [
       "<div>\n",
       "<style scoped>\n",
       "    .dataframe tbody tr th:only-of-type {\n",
       "        vertical-align: middle;\n",
       "    }\n",
       "\n",
       "    .dataframe tbody tr th {\n",
       "        vertical-align: top;\n",
       "    }\n",
       "\n",
       "    .dataframe thead th {\n",
       "        text-align: right;\n",
       "    }\n",
       "</style>\n",
       "<table border=\"1\" class=\"dataframe\">\n",
       "  <thead>\n",
       "    <tr style=\"text-align: right;\">\n",
       "      <th></th>\n",
       "      <th>empid</th>\n",
       "      <th>ename</th>\n",
       "      <th>sal</th>\n",
       "      <th>doj</th>\n",
       "    </tr>\n",
       "  </thead>\n",
       "  <tbody>\n",
       "    <tr>\n",
       "      <th>5</th>\n",
       "      <td>1006</td>\n",
       "      <td>Anant Nag</td>\n",
       "      <td>9999.99</td>\n",
       "      <td>1999-09-09</td>\n",
       "    </tr>\n",
       "    <tr>\n",
       "      <th>3</th>\n",
       "      <td>1004</td>\n",
       "      <td>Hema Chandra</td>\n",
       "      <td>16500.50</td>\n",
       "      <td>2000-09-10</td>\n",
       "    </tr>\n",
       "    <tr>\n",
       "      <th>4</th>\n",
       "      <td>1005</td>\n",
       "      <td>Laxmi Prasanna</td>\n",
       "      <td>12000.75</td>\n",
       "      <td>2000-10-08</td>\n",
       "    </tr>\n",
       "    <tr>\n",
       "      <th>0</th>\n",
       "      <td>1001</td>\n",
       "      <td>Ganesh Rao</td>\n",
       "      <td>10000.00</td>\n",
       "      <td>2000-10-10</td>\n",
       "    </tr>\n",
       "    <tr>\n",
       "      <th>2</th>\n",
       "      <td>1003</td>\n",
       "      <td>Gaurav Gupta</td>\n",
       "      <td>18000.53</td>\n",
       "      <td>2002-03-03</td>\n",
       "    </tr>\n",
       "    <tr>\n",
       "      <th>1</th>\n",
       "      <td>1002</td>\n",
       "      <td>Anil Kumar</td>\n",
       "      <td>23000.50</td>\n",
       "      <td>2002-03-20</td>\n",
       "    </tr>\n",
       "  </tbody>\n",
       "</table>\n",
       "</div>"
      ],
      "text/plain": [
       "   empid           ename       sal        doj\n",
       "5   1006       Anant Nag   9999.99 1999-09-09\n",
       "3   1004    Hema Chandra  16500.50 2000-09-10\n",
       "4   1005  Laxmi Prasanna  12000.75 2000-10-08\n",
       "0   1001      Ganesh Rao  10000.00 2000-10-10\n",
       "2   1003    Gaurav Gupta  18000.53 2002-03-03\n",
       "1   1002      Anil Kumar  23000.50 2002-03-20"
      ]
     },
     "execution_count": 38,
     "metadata": {},
     "output_type": "execute_result"
    }
   ],
   "source": [
    "# sort by date of joining\n",
    "df1 = df.sort_values('doj')\n",
    "df1"
   ]
  },
  {
   "cell_type": "code",
   "execution_count": 39,
   "id": "engaged-culture",
   "metadata": {},
   "outputs": [
    {
     "data": {
      "text/html": [
       "<div>\n",
       "<style scoped>\n",
       "    .dataframe tbody tr th:only-of-type {\n",
       "        vertical-align: middle;\n",
       "    }\n",
       "\n",
       "    .dataframe tbody tr th {\n",
       "        vertical-align: top;\n",
       "    }\n",
       "\n",
       "    .dataframe thead th {\n",
       "        text-align: right;\n",
       "    }\n",
       "</style>\n",
       "<table border=\"1\" class=\"dataframe\">\n",
       "  <thead>\n",
       "    <tr style=\"text-align: right;\">\n",
       "      <th></th>\n",
       "      <th>empid</th>\n",
       "      <th>ename</th>\n",
       "      <th>sal</th>\n",
       "      <th>doj</th>\n",
       "    </tr>\n",
       "  </thead>\n",
       "  <tbody>\n",
       "    <tr>\n",
       "      <th>1</th>\n",
       "      <td>1002</td>\n",
       "      <td>Anil Kumar</td>\n",
       "      <td>23000.50</td>\n",
       "      <td>2002-03-20</td>\n",
       "    </tr>\n",
       "    <tr>\n",
       "      <th>2</th>\n",
       "      <td>1003</td>\n",
       "      <td>Gaurav Gupta</td>\n",
       "      <td>18000.53</td>\n",
       "      <td>2002-03-03</td>\n",
       "    </tr>\n",
       "    <tr>\n",
       "      <th>0</th>\n",
       "      <td>1001</td>\n",
       "      <td>Ganesh Rao</td>\n",
       "      <td>10000.00</td>\n",
       "      <td>2000-10-10</td>\n",
       "    </tr>\n",
       "    <tr>\n",
       "      <th>4</th>\n",
       "      <td>1005</td>\n",
       "      <td>Laxmi Prasanna</td>\n",
       "      <td>12000.75</td>\n",
       "      <td>2000-10-08</td>\n",
       "    </tr>\n",
       "    <tr>\n",
       "      <th>3</th>\n",
       "      <td>1004</td>\n",
       "      <td>Hema Chandra</td>\n",
       "      <td>16500.50</td>\n",
       "      <td>2000-09-10</td>\n",
       "    </tr>\n",
       "    <tr>\n",
       "      <th>5</th>\n",
       "      <td>1006</td>\n",
       "      <td>Anant Nag</td>\n",
       "      <td>9999.99</td>\n",
       "      <td>1999-09-09</td>\n",
       "    </tr>\n",
       "  </tbody>\n",
       "</table>\n",
       "</div>"
      ],
      "text/plain": [
       "   empid           ename       sal        doj\n",
       "1   1002      Anil Kumar  23000.50 2002-03-20\n",
       "2   1003    Gaurav Gupta  18000.53 2002-03-03\n",
       "0   1001      Ganesh Rao  10000.00 2000-10-10\n",
       "4   1005  Laxmi Prasanna  12000.75 2000-10-08\n",
       "3   1004    Hema Chandra  16500.50 2000-09-10\n",
       "5   1006       Anant Nag   9999.99 1999-09-09"
      ]
     },
     "execution_count": 39,
     "metadata": {},
     "output_type": "execute_result"
    }
   ],
   "source": [
    "df1 = df.sort_values('doj',ascending=False)\n",
    "df1"
   ]
  },
  {
   "cell_type": "code",
   "execution_count": 35,
   "id": "distant-angola",
   "metadata": {},
   "outputs": [
    {
     "data": {
      "text/html": [
       "<div>\n",
       "<style scoped>\n",
       "    .dataframe tbody tr th:only-of-type {\n",
       "        vertical-align: middle;\n",
       "    }\n",
       "\n",
       "    .dataframe tbody tr th {\n",
       "        vertical-align: top;\n",
       "    }\n",
       "\n",
       "    .dataframe thead th {\n",
       "        text-align: right;\n",
       "    }\n",
       "</style>\n",
       "<table border=\"1\" class=\"dataframe\">\n",
       "  <thead>\n",
       "    <tr style=\"text-align: right;\">\n",
       "      <th></th>\n",
       "      <th>empid</th>\n",
       "      <th>ename</th>\n",
       "      <th>sal</th>\n",
       "      <th>doj</th>\n",
       "    </tr>\n",
       "  </thead>\n",
       "  <tbody>\n",
       "    <tr>\n",
       "      <th>4</th>\n",
       "      <td>1005</td>\n",
       "      <td>Laxmi Prasanna</td>\n",
       "      <td>12000.75</td>\n",
       "      <td>2000-10-08</td>\n",
       "    </tr>\n",
       "    <tr>\n",
       "      <th>3</th>\n",
       "      <td>1004</td>\n",
       "      <td>Hema Chandra</td>\n",
       "      <td>16500.50</td>\n",
       "      <td>2000-09-10</td>\n",
       "    </tr>\n",
       "    <tr>\n",
       "      <th>2</th>\n",
       "      <td>1003</td>\n",
       "      <td>Gaurav Gupta</td>\n",
       "      <td>18000.53</td>\n",
       "      <td>2002-03-03</td>\n",
       "    </tr>\n",
       "    <tr>\n",
       "      <th>0</th>\n",
       "      <td>1001</td>\n",
       "      <td>Ganesh Rao</td>\n",
       "      <td>10000.00</td>\n",
       "      <td>2000-10-10</td>\n",
       "    </tr>\n",
       "    <tr>\n",
       "      <th>1</th>\n",
       "      <td>1002</td>\n",
       "      <td>Anil Kumar</td>\n",
       "      <td>23000.50</td>\n",
       "      <td>2002-03-20</td>\n",
       "    </tr>\n",
       "    <tr>\n",
       "      <th>5</th>\n",
       "      <td>1006</td>\n",
       "      <td>Anant Nag</td>\n",
       "      <td>9999.99</td>\n",
       "      <td>1999-09-09</td>\n",
       "    </tr>\n",
       "  </tbody>\n",
       "</table>\n",
       "</div>"
      ],
      "text/plain": [
       "   empid           ename       sal        doj\n",
       "4   1005  Laxmi Prasanna  12000.75 2000-10-08\n",
       "3   1004    Hema Chandra  16500.50 2000-09-10\n",
       "2   1003    Gaurav Gupta  18000.53 2002-03-03\n",
       "0   1001      Ganesh Rao  10000.00 2000-10-10\n",
       "1   1002      Anil Kumar  23000.50 2002-03-20\n",
       "5   1006       Anant Nag   9999.99 1999-09-09"
      ]
     },
     "execution_count": 35,
     "metadata": {},
     "output_type": "execute_result"
    }
   ],
   "source": [
    "# sort by doj and sal\n",
    "df1 = df.sort_values(by=['ename','sal'],ascending=[False,True])\n",
    "df1"
   ]
  },
  {
   "cell_type": "markdown",
   "id": "signed-farmer",
   "metadata": {},
   "source": [
    "### Excercise\n",
    "<ol>\n",
    "    <li> Insert more 10 rows into the dataframe.\n",
    "    <li> Add new column 'gender\".\n",
    "    <li> Print salary of Ganesh Rao.\n",
    "    <li> Print joining date and id of Laxmi Prasanna.\n",
    "    <li> Print average salary.\n",
    "    <li> Add new column \"annual-salary\".\n",
    "    <li> List female employees who are earning above average salary.\n",
    "    <li> List most recently joined three employees.\n",
    "    <li> Convert all column names to InitCap case.\n",
    "    <li> Count male employees who are not earning below average salary.\n",
    "    <li> Calculate and store bonus in a new column 'Bonus'. It should be 10% and 7.5% of 'Sal' for male and female employees respectively.\n",
    "    <li> Delete row having the least salary.\n",
    "    <li> Delete salary of Laxmi and Gaurav. \n",
    "    <li> Set missing salary with the average salary.\n",
    "    <li> Convert all employee names to upper case.\n",
    "    <li> Count all employees who had joined before 01-01-2001.\n",
    "    <li> Add a new column 'Department'. Possible values: \"Systems\", \"Data Analytics\", \"Web Apps\"\n",
    "    <li> Sort rows: department - salary - name viz.\n",
    "    <li> Find difference in count of employees (\"System\" and \"Web Apps\") earning below average salary.\n",
    "    <li> Increase salary of all females by 10% (of their existing salary) whose salary is below average salary.\n",
    "    <li> Remove all \"Data Analytics\" department employees.\n",
    "    <li> Insert a new column \"SALARY\" which should be identical to the 'Sal' column.\n",
    "    <li> Remove the 'SALARY' column.\n",
    "</ol>"
   ]
  },
  {
   "cell_type": "code",
   "execution_count": null,
   "id": "29689ac2",
   "metadata": {},
   "outputs": [],
   "source": []
  }
 ],
 "metadata": {
  "kernelspec": {
   "display_name": "Python 3 (ipykernel)",
   "language": "python",
   "name": "python3"
  },
  "language_info": {
   "codemirror_mode": {
    "name": "ipython",
    "version": 3
   },
   "file_extension": ".py",
   "mimetype": "text/x-python",
   "name": "python",
   "nbconvert_exporter": "python",
   "pygments_lexer": "ipython3",
   "version": "3.10.9"
  }
 },
 "nbformat": 4,
 "nbformat_minor": 5
}
