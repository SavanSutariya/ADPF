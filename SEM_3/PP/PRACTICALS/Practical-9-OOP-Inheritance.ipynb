{
 "cells": [
  {
   "cell_type": "markdown",
   "id": "cordless-proof",
   "metadata": {},
   "source": [
    "#### How to work with class variables and class methods?"
   ]
  },
  {
   "cell_type": "code",
   "execution_count": 1,
   "id": "certain-tragedy",
   "metadata": {},
   "outputs": [],
   "source": [
    "class Number:\n",
    "    m = 10  # m is known as a class variable or class member or static variable or static member\n",
    "    \n",
    "    @classmethod\n",
    "    def increment(cls):\n",
    "        cls.m += 1\n",
    "    ##\n",
    "    \n",
    "    @classmethod\n",
    "    def show(cls):\n",
    "        print(cls.m)\n",
    "    ##\n",
    "##"
   ]
  },
  {
   "cell_type": "code",
   "execution_count": 4,
   "id": "coupled-fusion",
   "metadata": {},
   "outputs": [
    {
     "name": "stdout",
     "output_type": "stream",
     "text": [
      "10\n"
     ]
    }
   ],
   "source": [
    "n1 = Number()\n",
    "n1.show()"
   ]
  },
  {
   "cell_type": "code",
   "execution_count": 5,
   "id": "liable-savannah",
   "metadata": {},
   "outputs": [
    {
     "name": "stdout",
     "output_type": "stream",
     "text": [
      "10\n"
     ]
    }
   ],
   "source": [
    "n2 = Number()\n",
    "n2.show()"
   ]
  },
  {
   "cell_type": "code",
   "execution_count": 6,
   "id": "opened-authentication",
   "metadata": {},
   "outputs": [
    {
     "name": "stdout",
     "output_type": "stream",
     "text": [
      "11\n"
     ]
    }
   ],
   "source": [
    "n2.increment()\n",
    "n2.show()"
   ]
  },
  {
   "cell_type": "code",
   "execution_count": 7,
   "id": "necessary-destruction",
   "metadata": {},
   "outputs": [
    {
     "name": "stdout",
     "output_type": "stream",
     "text": [
      "11\n"
     ]
    }
   ],
   "source": [
    "n1.show() ## notice output"
   ]
  },
  {
   "cell_type": "markdown",
   "id": "earned-neighbor",
   "metadata": {},
   "source": [
    "#### How to work with static methods?"
   ]
  },
  {
   "cell_type": "code",
   "execution_count": 1,
   "id": "daily-application",
   "metadata": {},
   "outputs": [],
   "source": [
    "class Test:\n",
    "    count = 0  # class member (i.e. static member)\n",
    "    \n",
    "    def __init__(self): # constructor\n",
    "        Test.count += 1 # increment the value of the class member\n",
    "    ##\n",
    "    \n",
    "    @staticmethod\n",
    "    def printCount():\n",
    "        print(\"No. of instances created so far = \",Test.count)\n",
    "    ##\n",
    "    \n",
    "    def __del__(self):\n",
    "        Test.count -= 1"
   ]
  },
  {
   "cell_type": "code",
   "execution_count": 2,
   "id": "persistent-purpose",
   "metadata": {},
   "outputs": [],
   "source": [
    "t1 = Test()\n",
    "t2 = Test()\n",
    "t3 = Test()"
   ]
  },
  {
   "cell_type": "code",
   "execution_count": 3,
   "id": "acceptable-spain",
   "metadata": {},
   "outputs": [
    {
     "name": "stdout",
     "output_type": "stream",
     "text": [
      "No. of instances created so far =  3\n"
     ]
    }
   ],
   "source": [
    "Test.printCount()"
   ]
  },
  {
   "cell_type": "code",
   "execution_count": 4,
   "id": "wrong-dairy",
   "metadata": {},
   "outputs": [],
   "source": [
    "del t2"
   ]
  },
  {
   "cell_type": "code",
   "execution_count": 5,
   "id": "quiet-letter",
   "metadata": {},
   "outputs": [
    {
     "name": "stdout",
     "output_type": "stream",
     "text": [
      "No. of instances created so far =  2\n"
     ]
    }
   ],
   "source": [
    "Test.printCount()"
   ]
  },
  {
   "cell_type": "markdown",
   "id": "greatest-analyst",
   "metadata": {},
   "source": [
    "### Inheritance"
   ]
  },
  {
   "cell_type": "code",
   "execution_count": 17,
   "id": "medical-management",
   "metadata": {},
   "outputs": [],
   "source": [
    "class Person():\n",
    "    def setName(self, name):   # setter method or mutator method\n",
    "        self.name = name\n",
    "    ##\n",
    "    def getName(self):         # getter method or accessor method\n",
    "        return self.name\n",
    "    ##\n",
    "##\n",
    "\n",
    "class Student(Person):      ## Person is base class (i.e. parent class) AND Student is child class (i.e. derived class)\n",
    "    def setStudent(self,name,course):\n",
    "        self.course = course\n",
    "        self.setName(name)\n",
    "    ##\n",
    "    def printStudent(self):\n",
    "        print(self.getName())\n",
    "        print(self.course)\n",
    "    ##\n",
    "##"
   ]
  },
  {
   "cell_type": "code",
   "execution_count": 18,
   "id": "written-classics",
   "metadata": {},
   "outputs": [
    {
     "name": "stdout",
     "output_type": "stream",
     "text": [
      "ram\n",
      "archery\n"
     ]
    }
   ],
   "source": [
    "s1 = Student()\n",
    "s1.setStudent('ram','archery')\n",
    "s1.printStudent()"
   ]
  },
  {
   "cell_type": "markdown",
   "id": "wicked-insert",
   "metadata": {},
   "source": [
    "#### How to work with constructors in inheritance?"
   ]
  },
  {
   "cell_type": "code",
   "execution_count": 19,
   "id": "twelve-annotation",
   "metadata": {},
   "outputs": [],
   "source": [
    "class Father:\n",
    "    def __init__(self):\n",
    "        self.property = 5000\n",
    "    ##\n",
    "    def display_property(self):\n",
    "        print(\"Father's property =\", self.property)\n",
    "    ##\n",
    "##\n",
    "\n",
    "class Son(Father):\n",
    "    pass\n",
    "##"
   ]
  },
  {
   "cell_type": "code",
   "execution_count": 20,
   "id": "patent-portuguese",
   "metadata": {},
   "outputs": [
    {
     "name": "stdout",
     "output_type": "stream",
     "text": [
      "Father's property = 5000\n"
     ]
    }
   ],
   "source": [
    "s = Son()\n",
    "s.display_property()"
   ]
  },
  {
   "cell_type": "code",
   "execution_count": 21,
   "id": "surrounded-intersection",
   "metadata": {},
   "outputs": [],
   "source": [
    "class Father:\n",
    "    def __init__(self):\n",
    "        self.property = 5000\n",
    "    ##\n",
    "    def display_property(self):\n",
    "        print(\"Father's property =\", self.property)\n",
    "    ##\n",
    "##\n",
    "\n",
    "class Son(Father):\n",
    "    def __init__(self):\n",
    "        self.property = 10000\n",
    "    ##\n",
    "    def display_property(self):\n",
    "        print(\"Son's property =\", self.property)\n",
    "    ##\n",
    "##"
   ]
  },
  {
   "cell_type": "code",
   "execution_count": 22,
   "id": "flush-addition",
   "metadata": {},
   "outputs": [
    {
     "name": "stdout",
     "output_type": "stream",
     "text": [
      "Son's property = 10000\n"
     ]
    }
   ],
   "source": [
    "s = Son()\n",
    "s.display_property()"
   ]
  },
  {
   "cell_type": "code",
   "execution_count": 23,
   "id": "mediterranean-coalition",
   "metadata": {},
   "outputs": [
    {
     "name": "stdout",
     "output_type": "stream",
     "text": [
      "Father's property = 5000\n"
     ]
    }
   ],
   "source": [
    "f = Father()\n",
    "f.display_property()"
   ]
  },
  {
   "cell_type": "code",
   "execution_count": null,
   "id": "trained-upper",
   "metadata": {},
   "outputs": [],
   "source": []
  },
  {
   "cell_type": "code",
   "execution_count": 24,
   "id": "seven-motorcycle",
   "metadata": {},
   "outputs": [],
   "source": [
    "class Father:\n",
    "    def __init__(self,property):\n",
    "        self.property = property\n",
    "    ##\n",
    "    def display_property(self):\n",
    "        print(\"Father's property =\", self.property)\n",
    "    ##\n",
    "##\n",
    "\n",
    "class Son(Father):\n",
    "    def __init__(self,propertyF,propertyS): # notice parameters\n",
    "        super().__init__(propertyF)  # invoke parent class constructor in child class\n",
    "        self.propertyS = propertyS\n",
    "        #self.property = propertyF\n",
    "    ##\n",
    "    def display_property(self): ## method overriding\n",
    "        print(\"Son's property =\", self.propertyS)\n",
    "        print(\"Father's property =\", self.property)\n",
    "    ##\n",
    "##"
   ]
  },
  {
   "cell_type": "code",
   "execution_count": 26,
   "id": "dynamic-officer",
   "metadata": {},
   "outputs": [
    {
     "name": "stdout",
     "output_type": "stream",
     "text": [
      "Son's property = 10000\n",
      "Father's property = 5000\n"
     ]
    }
   ],
   "source": [
    "s = Son(5000,10000) # notice parameters\n",
    "s.display_property()"
   ]
  },
  {
   "cell_type": "code",
   "execution_count": null,
   "id": "opening-salvation",
   "metadata": {},
   "outputs": [],
   "source": []
  },
  {
   "cell_type": "code",
   "execution_count": 27,
   "id": "iraqi-evening",
   "metadata": {},
   "outputs": [],
   "source": [
    "class Square:\n",
    "    def __init__(self,x): # Base class constructor\n",
    "        self.x = x\n",
    "    ##\n",
    "    def area(self):\n",
    "        print(\"Area of square =\",self.x * self.x)\n",
    "    ##\n",
    "##\n",
    "\n",
    "class Rectangle(Square):\n",
    "    def __init__(self,x,y):\n",
    "        super().__init__(x) ## from child class, invoke base class constructor with parameters\n",
    "        self.y = y\n",
    "    ##\n",
    "    def area(self):\n",
    "        super().area()      ## invoke base class method\n",
    "        print(\"Area of rectangle = \",self.x * self.y)\n",
    "    ##\n",
    "##"
   ]
  },
  {
   "cell_type": "code",
   "execution_count": 28,
   "id": "charged-poultry",
   "metadata": {},
   "outputs": [
    {
     "name": "stdout",
     "output_type": "stream",
     "text": [
      "Area of square = 49\n",
      "Area of rectangle =  63\n"
     ]
    }
   ],
   "source": [
    "a = 7;b = 9\n",
    "\n",
    "r = Rectangle(a,b)\n",
    "r.area()"
   ]
  },
  {
   "cell_type": "markdown",
   "id": "dying-mailing",
   "metadata": {},
   "source": [
    "### Exercises\n",
    "<ol>\n",
    "    <li> What is difference between instance method and class method? Which type of method should be used when? How to create and use them. Explain using example.\n",
    "    <li> What is difference between static method and class method? Which type of method should be used when? How to create and use them. Explain using example.\n",
    "    <li> Is it possible to overload constructors in python?\n",
    "    <li> Is it possible to override methods in python? If yes, explain how. If no, explain why.\n",
    "    <li> Using suitable examples of your choice (other than those which had been discussed in the class), explain creation and usage of class method, class variable and static method.\n",
    "    <li> How to use inheritance for implementing various types of bankaccount classes? Draw class relationship & explain using detailed practical example. Implement necessary constructors in the base and all derived classes. Show how to invoke base class constructor from derived class. Implement necessary getter & setter methods on all parent & children classes. Implement necessary methods for computing simple interest or any other such interests. Show how to use these classes.\n",
    "    <li> How to create and user interface in Python?\n",
    "</ol>\n",
    "\n",
    "File name should be:<br>\n",
    "YourRollNo-Practical-9-OOP-inheritance.ipynb"
   ]
  },
  {
   "cell_type": "code",
   "execution_count": null,
   "id": "composed-elevation",
   "metadata": {},
   "outputs": [],
   "source": []
  }
 ],
 "metadata": {
  "kernelspec": {
   "display_name": "Python 3 (ipykernel)",
   "language": "python",
   "name": "python3"
  },
  "language_info": {
   "codemirror_mode": {
    "name": "ipython",
    "version": 3
   },
   "file_extension": ".py",
   "mimetype": "text/x-python",
   "name": "python",
   "nbconvert_exporter": "python",
   "pygments_lexer": "ipython3",
   "version": "3.10.9"
  }
 },
 "nbformat": 4,
 "nbformat_minor": 5
}
